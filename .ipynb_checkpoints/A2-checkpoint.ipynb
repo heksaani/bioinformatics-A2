{
 "cells": [
  {
   "cell_type": "markdown",
   "metadata": {},
   "source": [
    "## LSI31008 Elements of Bioinformatics, Assignment 2:  Basic sequence statistics, the genetic code and transcription factor binding sites.\n"
   ]
  },
  {
   "cell_type": "markdown",
   "metadata": {},
   "source": [
    "Here we will explore the (near) universal genetic code discussed at the lecture. We first load in yeast *S.cerevisiae* coding sequence downloaded from [SGD](https://downloads.yeastgenome.org/sequence/S288C_reference/orf_dna/). The idea is to evaluate various statistics from the genomic data and think about them in the light of the genetic code. For background reading please have a look of [\"JB Plotkin, G Kudla: Synonymous but not the same: the causes and consequences of codon bias\"](https://www.nature.com/articles/nrg2899) and [\"EV Koonin, AS Novozhilov: Origin and evolution of the genetic code: The universal enigma\"](https://iubmb.onlinelibrary.wiley.com/doi/abs/10.1002/iub.146)."
   ]
  },
  {
   "cell_type": "markdown",
   "metadata": {},
   "source": [
    "The Biopython package offers easy ways to read in FASTA-files and to handle sequences. To install it on the CSC Jupyter environment you need to run the following commands: (Note: you might need to run this separately and then restart this notebook to ensure that the package is available to your session)"
   ]
  },
  {
   "cell_type": "code",
   "execution_count": 1,
   "metadata": {},
   "outputs": [
    {
     "name": "stdout",
     "output_type": "stream",
     "text": [
      "Requirement already satisfied: biopython in c:\\users\\heidi\\appdata\\roaming\\python\\python310\\site-packages (1.79)\n",
      "Requirement already satisfied: numpy in c:\\users\\heidi\\appdata\\roaming\\python\\python310\\site-packages (from biopython) (1.23.2)\n"
     ]
    }
   ],
   "source": [
    "import sys\n",
    "!{sys.executable} -m pip install --user biopython"
   ]
  },
  {
   "cell_type": "markdown",
   "metadata": {},
   "source": [
    "Import pyplot for figure generation"
   ]
  },
  {
   "cell_type": "code",
   "execution_count": 2,
   "metadata": {},
   "outputs": [],
   "source": [
    "from matplotlib import pyplot as plt"
   ]
  },
  {
   "cell_type": "markdown",
   "metadata": {},
   "source": [
    "Import also Counter and OrderedDict, for subsequent usage"
   ]
  },
  {
   "cell_type": "code",
   "execution_count": 3,
   "metadata": {},
   "outputs": [],
   "source": [
    "from collections import Counter, OrderedDict"
   ]
  },
  {
   "cell_type": "markdown",
   "metadata": {},
   "source": [
    "Import Biopython SeqIO for reading FASTA-files"
   ]
  },
  {
   "cell_type": "code",
   "execution_count": 4,
   "metadata": {},
   "outputs": [],
   "source": [
    "from Bio import SeqIO"
   ]
  },
  {
   "cell_type": "markdown",
   "metadata": {},
   "source": [
    "Read the file into a dictionary of SeqRecord objects\n",
    "\n",
    "Please see the following links for information on using Biopython sequence tools:\n",
    "\n",
    "https://biopython.org/wiki/SeqIO\n",
    "\n",
    "https://biopython.org/wiki/SeqRecord\n",
    "\n",
    "https://biopython.org/wiki/Seq"
   ]
  },
  {
   "cell_type": "code",
   "execution_count": 24,
   "metadata": {},
   "outputs": [],
   "source": [
    "input_file = 'orf_coding.fasta'\n",
    "records = SeqIO.to_dict(SeqIO.parse(input_file, \"fasta\"))"
   ]
  },
  {
   "cell_type": "markdown",
   "metadata": {},
   "source": [
    "See that we have 5917 keys:"
   ]
  },
  {
   "cell_type": "code",
   "execution_count": 25,
   "metadata": {},
   "outputs": [
    {
     "data": {
      "text/plain": [
       "5917"
      ]
     },
     "execution_count": 25,
     "metadata": {},
     "output_type": "execute_result"
    }
   ],
   "source": [
    "ids = list(records.keys())\n",
    "len(ids)"
   ]
  },
  {
   "cell_type": "markdown",
   "metadata": {},
   "source": [
    "A single record in the dictionary contains all kinds of data:"
   ]
  },
  {
   "cell_type": "code",
   "execution_count": 26,
   "metadata": {},
   "outputs": [
    {
     "data": {
      "text/plain": [
       "SeqRecord(seq=Seq('ATGGCATCCACCGATTTCTCCAAGATTGAAACTTTGAAACAATTAAACGCTTCT...TAA'), id='YAL003W', name='YAL003W', description='YAL003W EFB1 SGDID:S000000003, Chr I from 142174-142253,142620-143160, Genome Release 64-2-1, intron sequence removed, Verified ORF, \"Translation elongation factor 1 beta; stimulates nucleotide exchange to regenerate EF-1 alpha-GTP for the next elongation cycle; part of the EF-1 complex, which facilitates binding of aminoacyl-tRNA to the ribosomal A site\"', dbxrefs=[])"
      ]
     },
     "execution_count": 26,
     "metadata": {},
     "output_type": "execute_result"
    }
   ],
   "source": [
    "records[ids[2]]\n",
    "#print(records)"
   ]
  },
  {
   "cell_type": "markdown",
   "metadata": {},
   "source": [
    "To get the nucleotide sequence out use `.seq`"
   ]
  },
  {
   "cell_type": "code",
   "execution_count": 80,
   "metadata": {},
   "outputs": [],
   "source": [
    "sequence = (records[ids[0]]).seq\n",
    "#str(sequence)"
   ]
  },
  {
   "cell_type": "markdown",
   "metadata": {},
   "source": [
    "Or `.translate()` for amino acid sequence: (Note: you may need to write your own translation method for some Problems)"
   ]
  },
  {
   "cell_type": "code",
   "execution_count": 85,
   "metadata": {
    "scrolled": true
   },
   "outputs": [
    {
     "data": {
      "text/plain": [
       "'MVLTIYPDELVQIVSDKIASNKGKITLNQLWDISGKYFDLSDKKVKQFVLSCVILKKDIEVYCDGAITTKNVTDIIGDANHSYSVGITEDSLWTLLTGYTKKESTIGNSAFELLLEVAKSGEKGINTMDLAQVTGQDPRSVTGRIKKINHLLTSSQLIYKGHVVKQLKLKKFSHDGVDSNPYINIRDHLATIVEVVKRSKNGIRQIIDLKRELKFDKEKRLSKAFIAAIAWLDEKEYLKKVLVVSPKNPAIKIRCVKYVKDIPDSKGSPSFEYDSNSADEDSVSDSKAAFEDEDLVEGLDNFNATDLLQNQGLVMEEKEDAVKNEVLLNRFYPLQNQTYDIADKSGLKGISTMDVVNRITGKEFQRAFTKSSEYYLESVDKQKENTGGYRLFRIYDFEGKKKFFRLFTAQNFQKLTNAEDEISVPKGFDELGKSRTDLKTLNEDNFVALNNTVRFTTDSDGQDIFFWHGELKIPPNSKKTPNKNKRKRQVKNSTNASVAGNISNPKRIKLEQHVSTAQEPKSAEDSPSSNGGTVVKGKVVNFGGFSARSLRSLQRQRAILKVMNTIGGVAYLREQFYESVSKYMGSTTTLDKKTVRGDVDLMVESEKLGARTEPVSGRKIIFLPTVGEDAIQRYILKEKDSKKATFTDVIHDTEIYFFDQTEKNRFHRGKKSVERIRKFQNRQKNAKIKASDDAISKKSTSVNVSDGKIKRRDKKVSAGRTTVVVENTKEDKTVYHAGTKDGVQALIRAVVVTKSIKNEIMWDKITKLFPNNSLDNLKKKWTARRVRMGHSGWRAYVDKWKKMLVLAIKSEKISLRDVEELDLIKLLDIWTSFDEKEIKRPLFLYKNYEENRKKFTLVRDDTLTHSGNDLAMSSMIQREISSLKKTYTRKISASTKDLSKSQSDDYIRTVIRSILIESPSTTRNEIEALKNVGNESIDNVIMDMAKEKQIYLHGSKLECTDTLPDILENRGNYKDFGVAFQYRCKVNELLEAGNAIVINQEPSDISSWVLIDLISGELLNMDVIPMVRNVRPLTYTSRRFEIRTLTPPLIIYANSQTKLNTARKSAVKVPLGKPFSRLWVNGSGSIRPNIWKQVVTMVVNEIIFHPGITLSRLQSRCREVLSLHEISEICKWLLERQVLITTDFDGYWVNHNWYSIYEST*'"
      ]
     },
     "execution_count": 85,
     "metadata": {},
     "output_type": "execute_result"
    }
   ],
   "source": [
    "str(sequence.translate())"
   ]
  },
  {
   "cell_type": "markdown",
   "metadata": {},
   "source": [
    "The following function reads a string by triplets, counts the occurrence of each triplet and returns a dictionary:"
   ]
  },
  {
   "cell_type": "code",
   "execution_count": 29,
   "metadata": {},
   "outputs": [
    {
     "data": {
      "text/plain": [
       "{'AAG': 1, 'CCT': 1}"
      ]
     },
     "execution_count": 29,
     "metadata": {},
     "output_type": "execute_result"
    }
   ],
   "source": [
    "def extract_triplets(s):\n",
    "    size = len(s) // 3\n",
    "    out = {}\n",
    "    for i in range(size):\n",
    "        start = i*3\n",
    "        end = start + 3\n",
    "        triplet = s[start:end]\n",
    "        if triplet in out:\n",
    "            out[triplet] += 1\n",
    "        else:\n",
    "            out[triplet] = 1\n",
    "    return(out)\n",
    "\n",
    "sekvenssi = \"AAGCCT\"\n",
    "extract_triplets(sekvenssi)"
   ]
  },
  {
   "cell_type": "markdown",
   "metadata": {},
   "source": [
    "Testing that it works:"
   ]
  },
  {
   "cell_type": "code",
   "execution_count": 168,
   "metadata": {},
   "outputs": [
    {
     "name": "stdout",
     "output_type": "stream",
     "text": [
      "{'ATG': 17, 'GTA': 22, 'CTG': 12, 'ACG': 11, 'ATT': 41, 'TAT': 24, 'CCT': 9, 'GAC': 21, 'GAA': 51, 'CTC': 8, 'CAA': 19, 'ATA': 31, 'GTG': 19, 'TCT': 32, 'GAT': 58, 'AAA': 81, 'GCT': 23, 'TCA': 24, 'AAT': 44, 'AAG': 44, 'GGA': 22, 'ATC': 15, 'ACT': 36, 'TTG': 20, 'CAG': 18, 'TGG': 15, 'GGT': 13, 'TTT': 32, 'GTT': 32, 'TTC': 10, 'CTT': 17, 'TGC': 2, 'GAG': 22, 'TGT': 5, 'ACA': 22, 'GGC': 15, 'CAT': 12, 'TAC': 11, 'TCG': 8, 'GGG': 9, 'AGC': 11, 'CTA': 11, 'TTA': 29, 'GCA': 15, 'GCC': 9, 'GCG': 5, 'AGA': 24, 'AGT': 15, 'CGT': 9, 'AAC': 22, 'CAC': 4, 'GTC': 14, 'CCC': 6, 'AGG': 16, 'CGA': 7, 'CGC': 5, 'CCA': 11, 'ACC': 6, 'TCC': 7, 'CCG': 4, 'CGG': 3, 'TAA': 1}\n",
      "1161\n"
     ]
    }
   ],
   "source": [
    "testi = extract_triplets(str(sequence))\n",
    "print(testi)\n",
    "#print(testi['AAA'])\n",
    "print(sum(testi.values()))\n",
    "#testi['ACC']\n"
   ]
  },
  {
   "cell_type": "markdown",
   "metadata": {},
   "source": [
    "The following dictionary may be useful for translating triplets into amino acids: (Note: please check that this is done right)"
   ]
  },
  {
   "cell_type": "code",
   "execution_count": 31,
   "metadata": {},
   "outputs": [],
   "source": [
    "transl = {'AAA' : 'Lys', 'AAC' : 'Asn', 'AAG' : 'Lys', 'AAT' : 'Asn',\n",
    "     'ACA' : 'Thr', 'ACC' : 'Thr', 'ACG' : 'Thr', 'ACT' : 'Thr',\n",
    "     'AGA' : 'Arg', 'AGC' : 'Ser', 'AGG' : 'Arg', 'AGT' : 'Ser',\n",
    "     'ATA' : 'Ile', 'ATC' : 'Ile', 'ATG' : 'Met', 'ATT' : 'Ile',\n",
    "     'CAA' : 'Gln', 'CAC' : 'His', 'CAG' : 'Gln', 'CAT' : 'His',\n",
    "     'CCA' : 'Pro', 'CCC' : 'Pro', 'CCG' : 'Pro', 'CCT' : 'Pro',\n",
    "     'CGA' : 'Arg', 'CGC' : 'Arg', 'CGG' : 'Arg', 'CGT' : 'Arg',\n",
    "     'CTA' : 'Leu', 'CTC' : 'Leu', 'CTG' : 'Leu', 'CTT' : 'Leu',\n",
    "     'GAA' : 'Glu', 'GAC' : 'Asp', 'GAG' : 'Glu', 'GAT' : 'Asp',\n",
    "     'GCA' : 'Ala', 'GCC' : 'Ala', 'GCG' : 'Ala', 'GCT' : 'Ala',\n",
    "     'GGA' : 'Gly', 'GGC' : 'Gly', 'GGG' : 'Gly', 'GGT' : 'Gly',\n",
    "     'GTA' : 'Val', 'GTC' : 'Val', 'GTG' : 'Val', 'GTT' : 'Val',\n",
    "     'TAA' : 'Stop', 'TAC' : 'Tyr', 'TAG' : 'Stop', 'TAT' : 'Tyr',\n",
    "     'TCA' : 'Ser', 'TCC' : 'Ser', 'TCG' : 'Ser', 'TCT' : 'Ser',\n",
    "     'TGA' : 'Stop', 'TGC' : 'Cys', 'TGG' : 'Trp', 'TGT' : 'Cys',\n",
    "     'TTA' : 'Leu', 'TTC' : 'Phe', 'TTG' : 'Leu', 'TTT' : 'Phe'};"
   ]
  },
  {
   "cell_type": "code",
   "execution_count": 32,
   "metadata": {},
   "outputs": [
    {
     "data": {
      "text/plain": [
       "'Lys'"
      ]
     },
     "execution_count": 32,
     "metadata": {},
     "output_type": "execute_result"
    }
   ],
   "source": [
    "transl['AAA']\n"
   ]
  },
  {
   "cell_type": "markdown",
   "metadata": {},
   "source": [
    "##  Problem 1a\n",
    "Evaluate what is the fraction of nucleotides 'A', 'C', 'G' and 'T' in the coding sequence of *S.cer*."
   ]
  },
  {
   "cell_type": "code",
   "execution_count": 33,
   "metadata": {},
   "outputs": [
    {
     "name": "stdout",
     "output_type": "stream",
     "text": [
      "{'A': 2883611, 'C': 1683047, 'G': 1795281, 'T': 2426618}\n"
     ]
    }
   ],
   "source": [
    "#iterating through a Counter object is like any dictionary\n",
    "#for nucleotide, count in Counter(sequence).items():\n",
    "    #print(nucleotide, \":\", count)\n",
    "nucleotide_amount_dictionary = {'A': 0 ,'C': 0, 'G': 0, 'T':0}\n",
    "for i in records.keys():\n",
    "    seq = records[i].seq\n",
    "    for nucleotide, count in Counter(seq).items():\n",
    "        nucleotide_amount_dictionary[nucleotide] +=count\n",
    "\n",
    "print(nucleotide_amount_dictionary)\n",
    "    \n",
    "\n",
    "#def counter(a):\n",
    "#    nucleotide_counts = {}\n",
    "#    for nucleotide, count in Counter(a).items():\n",
    "#        nucleotide_counts[nucleotide] = count\n",
    "#    return print(nucleotide_counts)\n",
    "#counter(sequence)\n",
    "    \n",
    "#def nucleotide_fraction_calculator(b):\n",
    "#    summ = 0\n",
    "#    fractions = {}\n",
    "#    for nucleotide, count in Counter(b).items():\n",
    "#        summ+=count\n",
    "#    for nucleotide, count in Counter(b).items():\n",
    "#        fractions[nucleotide] = \"{:.2f}\".format(count/summ)\n",
    "#    return fractions\n",
    "#nucleotide_fraction_calculator(sequence)\n"
   ]
  },
  {
   "cell_type": "markdown",
   "metadata": {},
   "source": [
    "**Hint :** You can use the [Counter](https://docs.python.org/3/library/collections.html#collections.Counter) from the code above to get the number of occurrences of every nucleotide."
   ]
  },
  {
   "cell_type": "markdown",
   "metadata": {},
   "source": [
    "##  Problem 1b\n",
    "Translate the coding sequences to protein sequence. Make a barchart showing the numbers of each amino-acid and stop codon, order by prevalence. "
   ]
  },
  {
   "cell_type": "code",
   "execution_count": 34,
   "metadata": {},
   "outputs": [
    {
     "data": {
      "text/plain": [
       "OrderedDict([('A', 1238), ('T', 952), ('G', 744), ('C', 549)])"
      ]
     },
     "execution_count": 34,
     "metadata": {},
     "output_type": "execute_result"
    }
   ],
   "source": [
    "# the following code sorts a dictionary in descending order\n",
    "OrderedDict(Counter(sequence).most_common())"
   ]
  },
  {
   "cell_type": "code",
   "execution_count": 36,
   "metadata": {},
   "outputs": [
    {
     "data": {
      "image/png": "[encoded data removed]",
      "text/plain": [
       "<Figure size 640x480 with 1 Axes>"
      ]
     },
     "metadata": {},
     "output_type": "display_data"
    }
   ],
   "source": [
    "protein_sequence_counts = {}\n",
    "protein_sequence=\"\"\n",
    "for i in range(len(records)):\n",
    "    seq = records[ids[i]].seq\n",
    "    #adding protein to one variable\n",
    "    protein_sequence += str(seq.translate())\n",
    "\n",
    "    \n",
    "c = OrderedDict(Counter(protein_sequence).most_common())\n",
    "\n",
    "\n",
    "plt.bar(range(len(c)), list(c.values()), align = 'center')\n",
    "\n",
    "plt.xticks(range(len(c)), list(c.keys()))\n",
    "\n",
    "plt.show()\n",
    "\n"
   ]
  },
  {
   "cell_type": "markdown",
   "metadata": {},
   "source": [
    "**Hint :** You can use the [OrderedDict](https://docs.python.org/3/library/collections.html#collections.OrderedDict) from the code above, together with the `.most_common()` method to sort the elements of a `Counter` object."
   ]
  },
  {
   "cell_type": "markdown",
   "metadata": {},
   "source": [
    "##  Problem 1c\n",
    "Split each coding sequences to codons (triplet that do not overlap). Make a barchart showing the numbers of each codon (64 altogether) order by the most often used amino-acid and its most often used codon, its second most used codon etc. (label the chart by both the codon and its amino-acid).  "
   ]
  },
  {
   "cell_type": "code",
   "execution_count": 192,
   "metadata": {
    "scrolled": true
   },
   "outputs": [
    {
     "data": {
      "image/png": "[encoded data removed]",
      "text/plain": [
       "<Figure size 1500x2000 with 1 Axes>"
      ]
     },
     "metadata": {},
     "output_type": "display_data"
    }
   ],
   "source": [
    "#creating a new dictionary to save data \n",
    "results = {}\n",
    "\n",
    "\n",
    "for i in records.keys():\n",
    "    #accessing records key values = sequence data\n",
    "    seq = records[i].seq\n",
    "    #changing sequence data to codons\n",
    "    codons = extract_triplets(str(seq))\n",
    "    #this return the codons and its counts as a dictionary\n",
    "    #summa = sum(codons.values())\n",
    "    for codon, amount in codons.items():\n",
    "        amino_acid = transl[codon] #changin the codon into it's \n",
    "        if amino_acid in results:\n",
    "            if codon in results[amino_acid].keys():\n",
    "                results[amino_acid][codon] += amount\n",
    "            else:\n",
    "                results[amino_acid][codon] = amount\n",
    "        else:\n",
    "            results[amino_acid] = {codon : amount}\n",
    "\n",
    "\n",
    "#sorting by the total abundance of amino acid\n",
    "results = dict(sorted(results.items(), key=lambda k: sum(k[1].values()), reverse = True))\n",
    "\n",
    "\n",
    "#orderin the dictionary in the reverse order by its codons \n",
    "for i in results:\n",
    "    results[i] = dict(sorted(results[i].items(), key=lambda item: item[1], reverse = True))\n",
    "\n",
    "\n",
    "\n",
    "#plotting the ordered dictionary: \n",
    "_, axes = plt.subplots(figsize = (15, 20))\n",
    "\n",
    "for protein, count in results.items():\n",
    "    bars = axes.bar(\n",
    "        x = list(count.keys()),\n",
    "        height = count.values(),\n",
    "        label = protein\n",
    "             )\n",
    "\n",
    "# changing the axes properties\n",
    "axes.set_ylabel(\"Abundance\")\n",
    "axes.set_title(\"Proteins and their most used amino-acids\");\n",
    "\n",
    "for tick in axes.get_xticklabels():\n",
    "    tick.set_rotation(90)\n",
    "# setting the acid values \n",
    "axes.legend()\n",
    "\n",
    "plt.show()\n"
   ]
  },
  {
   "cell_type": "markdown",
   "metadata": {},
   "source": [
    "##  Problem 1d\n",
    "From the codon frequency data, focus your attention to codons that code for the same amino-acid. Just by looking can you identify big differences in the particular codons that are being used to make a particular amino-acid? (Hint, look at Figure 1 of [\"JB Plotkin, G Kudla: Synonymous but not the same: the causes and consequences of codon bias\"](https://www.nature.com/articles/nrg2899)). "
   ]
  },
  {
   "cell_type": "markdown",
   "metadata": {},
   "source": [
    "Codon bias means that eventhoug more than one codon encodes for one amino acid, some codons are preferred over others.\n",
    "In our example data: <br>\n",
    "For the three different 'Stop' codon the difference between their usage is very small compared to Arginine where the difference between 'AGA' and 'CGG' is enourmous. "
   ]
  },
  {
   "cell_type": "markdown",
   "metadata": {},
   "source": [
    "##  Problem 2: Binding energy statistics in the yeast genome (intergenic regions) "
   ]
  },
  {
   "cell_type": "markdown",
   "metadata": {},
   "source": [
    "Here we analyse signatures of selection from genomic data using transcription factor binding sites as an example. See e.g. [\"Kinney JB, Tkacik G, Callan CG (2007) Precise physical models of protein-DNA interaction from high-throughput data. Proc Natl Acad Sci USA 104(2):501–506\"](http://www.pnas.org/content/104/2/501.short) and [\"Mustonen V, Kinney J, Callan CG, Lässig M (2008) Energy-dependent fitness: a quantitative model for the evolution of yeast transcription factor binding sites. Proc Natl Acad Sci USA 105(34):12376–12381\"](http://www.pnas.org/content/105/34/12376.short). \n",
    "\n",
    "Directory `data/` contains a file `alignment.txt.NaN.removed` where intergenic sequences for four yeast species (*S.cer, S.par, S.mik, S.bay*) are given. Note we have removed insertions and deletions from the alignment so that analyses which in this assignment focus on a single species aspects are a bit simpler."
   ]
  },
  {
   "cell_type": "code",
   "execution_count": null,
   "metadata": {},
   "outputs": [],
   "source": [
    "from setup import *\n",
    "%matplotlib inline"
   ]
  },
  {
   "cell_type": "code",
   "execution_count": null,
   "metadata": {},
   "outputs": [],
   "source": [
    "#import data to a dataframe\n",
    "datafile=\"data/alignment.txt.NaN.removed\";\n",
    "seq_igs=pd.read_csv(datafile,sep=\"\\s+\");\n",
    "tfBindingFile=\"data/Emat.abf1.kinney\";\n",
    "# imports an energy matrix modelling transcription factor to DNA binding for factor Abf1\n",
    "# the dimensions are 4 x 20, correspoding to the four nucleotides A,C,G,T and the binding sites motif length 20\n",
    "# smaller energy values indicate better binding\n",
    "Emat=np.array(pd.read_csv(tfBindingFile,header=None,sep=\"\\s+\"))"
   ]
  },
  {
   "cell_type": "code",
   "execution_count": null,
   "metadata": {},
   "outputs": [],
   "source": [
    "def getEnergy(seq,Emat):\n",
    "    s1=list(seq.replace('A','0').replace('C','1').replace('G','2').replace('T','3').replace('N','4'))\n",
    "    Lmat=Emat.shape[1]\n",
    "    Lseq=len(s1)\n",
    "    Ev=[]\n",
    "    for i in range(0,Lseq-Lmat+1):\n",
    "        E=0.0;\n",
    "        k=0;\n",
    "        flag=0;\n",
    "        eps=0.0;\n",
    "        for j in range(i,i+Lmat):\n",
    "            nuc=int(s1[j])\n",
    "            if nuc < 4:\n",
    "                eps=Emat[nuc,k];\n",
    "            else:\n",
    "                #remove sequences with missing data\n",
    "                flag=1;\n",
    "            E+=eps\n",
    "            k+=1;\n",
    "        if flag==0:    \n",
    "            Ev.append(E)\n",
    "    return Ev"
   ]
  },
  {
   "cell_type": "code",
   "execution_count": null,
   "metadata": {},
   "outputs": [],
   "source": [
    "def randomise(seq):\n",
    "    s1=list(seq.replace('A','0').replace('C','1').replace('G','2').replace('T','3').replace('N','4'))\n",
    "    random.shuffle(s1)\n",
    "    return \"\".join(s1)"
   ]
  },
  {
   "cell_type": "markdown",
   "metadata": {},
   "source": [
    "#### Problem 2a: \n",
    "Visualise the binding energy matrix *Emat* with elements $\\epsilon_k(a)$ where $k$ denotes column (binding site position) and $a \\in{A,C,G,T}$ nucleotides. What is the best possible binding sequence according to this model?"
   ]
  },
  {
   "cell_type": "code",
   "execution_count": null,
   "metadata": {},
   "outputs": [],
   "source": []
  },
  {
   "cell_type": "markdown",
   "metadata": {},
   "source": [
    "#### Problem 2b:\n",
    "\n",
    "Explain what the functions `getEnergy()` and `randomise()` do, and add some comments to the code to help a reader understand how they work."
   ]
  },
  {
   "cell_type": "code",
   "execution_count": null,
   "metadata": {},
   "outputs": [],
   "source": []
  },
  {
   "cell_type": "markdown",
   "metadata": {},
   "source": [
    "#### Problem 2c: \n",
    "Now, run the cell below (takes ~1 minute) and put a comment on each line to explain what it does. Plot a histogram of EvAll (use logarithmic y-axis).   "
   ]
  },
  {
   "cell_type": "code",
   "execution_count": null,
   "metadata": {},
   "outputs": [],
   "source": [
    "Nigs=seq_igs.shape[0]\n",
    "Eigs=[]\n",
    "for n in range(0,Nigs):\n",
    "    seq=seq_igs['Scer'][n]\n",
    "    Eigs.append(getEnergy(seq,Emat))\n",
    "    \n",
    "EvAll=[val for sublist in Eigs for val in sublist]   "
   ]
  },
  {
   "cell_type": "code",
   "execution_count": null,
   "metadata": {},
   "outputs": [],
   "source": []
  },
  {
   "cell_type": "markdown",
   "metadata": {},
   "source": [
    "#### Problem 2d: \n",
    "In fact, the histogram (2c) does not show all the possible binding sites in intergenic regions because the given sequences represent only the leading strand of DNA. To get the missing half, you can either make a second data set by reverse complementing all intergenic sequence or by reverse complementing the energy matrix (apply that to a new energy matrix by copy-pasting the code from 1c and modifying it as needed; hint: np.fliplr() and np.flipud might be useful). Make a histogram as in 1c but now for all data."
   ]
  },
  {
   "cell_type": "code",
   "execution_count": null,
   "metadata": {},
   "outputs": [],
   "source": []
  },
  {
   "cell_type": "markdown",
   "metadata": {},
   "source": [
    "#### Problem 2e: \n",
    "Make a null model by permuting randomly each intergenic sequence using the function randomise() (i.e. copy the code from 2d and add one line with `randomise()`). Plot the counts from the null model together with the real data into a histogram. Comment on what you see. Where is selection visible?\n"
   ]
  },
  {
   "cell_type": "code",
   "execution_count": null,
   "metadata": {},
   "outputs": [],
   "source": []
  }
 ],
 "metadata": {
  "kernelspec": {
   "display_name": "Python 3 (ipykernel)",
   "language": "python",
   "name": "python3"
  },
  "language_info": {
   "codemirror_mode": {
    "name": "ipython",
    "version": 3
   },
   "file_extension": ".py",
   "mimetype": "text/x-python",
   "name": "python",
   "nbconvert_exporter": "python",
   "pygments_lexer": "ipython3",
   "version": "3.10.4"
  }
 },
 "nbformat": 4,
 "nbformat_minor": 4
}
